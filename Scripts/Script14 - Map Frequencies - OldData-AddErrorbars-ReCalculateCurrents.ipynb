{
 "cells": [
  {
   "cell_type": "markdown",
   "id": "5ea99fba",
   "metadata": {},
   "source": [
    "# Recover Current profiles from old Phase Diagram "
   ]
  },
  {
   "cell_type": "code",
   "execution_count": 1,
   "id": "460f68bb",
   "metadata": {},
   "outputs": [],
   "source": [
    "import sys\n",
    "import os\n",
    "sys.path.insert(0, '../magcolloids')\n",
    "\n",
    "import numpy as np\n",
    "import matplotlib.pyplot as plt\n",
    "import pandas as pd\n",
    "from IPython.display import HTML, clear_output\n",
    "import scipy.optimize as spo\n",
    "import scipy.spatial as spa \n",
    "import magcolloids as mgc\n",
    "import matplotlib as mpl\n",
    "import string as st\n",
    "import itertools as it\n",
    "import support as sp\n",
    "\n",
    "from tqdm.auto import tqdm\n",
    "\n",
    "ureg = mgc.ureg\n",
    "\n",
    "idx = pd.IndexSlice\n",
    "\n",
    "%reload_ext autoreload\n",
    "%autoreload 2"
   ]
  },
  {
   "cell_type": "code",
   "execution_count": 2,
   "id": "6b5094d1",
   "metadata": {},
   "outputs": [],
   "source": [
    "mpl.rc('text', usetex=True)\n",
    "mpl.rcParams['figure.dpi'] = 150"
   ]
  },
  {
   "cell_type": "markdown",
   "id": "0940632f",
   "metadata": {},
   "source": [
    "### To add errorbars to this figure I need to recalculate the instantaneous current. "
   ]
  },
  {
   "cell_type": "code",
   "execution_count": 3,
   "id": "84587587",
   "metadata": {},
   "outputs": [],
   "source": [
    "directory = \"/media/Antonio/Dynamic/DimerCurrents/FrequencySweeps/FrequencySweep_3.9/\"\n",
    "index = pd.read_csv(os.path.join(directory, \"index.dat\"), \n",
    "                    sep=\" \", names = [\"file\", \"h\", \"tilt\"])"
   ]
  },
  {
   "cell_type": "code",
   "execution_count": 4,
   "id": "cc5729d8",
   "metadata": {},
   "outputs": [
    {
     "data": {
      "text/html": [
       "<div>\n",
       "<style scoped>\n",
       "    .dataframe tbody tr th:only-of-type {\n",
       "        vertical-align: middle;\n",
       "    }\n",
       "\n",
       "    .dataframe tbody tr th {\n",
       "        vertical-align: top;\n",
       "    }\n",
       "\n",
       "    .dataframe thead th {\n",
       "        text-align: right;\n",
       "    }\n",
       "</style>\n",
       "<table border=\"1\" class=\"dataframe\">\n",
       "  <thead>\n",
       "    <tr style=\"text-align: right;\">\n",
       "      <th></th>\n",
       "      <th>file</th>\n",
       "      <th>h</th>\n",
       "      <th>tilt</th>\n",
       "    </tr>\n",
       "  </thead>\n",
       "  <tbody>\n",
       "    <tr>\n",
       "      <th>0</th>\n",
       "      <td>Tilt_2.0_deg_h3899_2019_09_25_17_17_30</td>\n",
       "      <td>3.9</td>\n",
       "      <td>2.0</td>\n",
       "    </tr>\n",
       "    <tr>\n",
       "      <th>1</th>\n",
       "      <td>Tilt_16.5_deg_h3899_2019_09_25_17_17_30</td>\n",
       "      <td>3.9</td>\n",
       "      <td>16.5</td>\n",
       "    </tr>\n",
       "    <tr>\n",
       "      <th>2</th>\n",
       "      <td>Tilt_4.5_deg_h3899_2019_09_25_17_17_30</td>\n",
       "      <td>3.9</td>\n",
       "      <td>4.5</td>\n",
       "    </tr>\n",
       "    <tr>\n",
       "      <th>3</th>\n",
       "      <td>Tilt_1.5_deg_h3899_2019_09_25_17_17_30</td>\n",
       "      <td>3.9</td>\n",
       "      <td>1.5</td>\n",
       "    </tr>\n",
       "    <tr>\n",
       "      <th>4</th>\n",
       "      <td>Tilt_14.0_deg_h3899_2019_09_25_17_17_30</td>\n",
       "      <td>3.9</td>\n",
       "      <td>14.0</td>\n",
       "    </tr>\n",
       "  </tbody>\n",
       "</table>\n",
       "</div>"
      ],
      "text/plain": [
       "                                      file    h  tilt\n",
       "0   Tilt_2.0_deg_h3899_2019_09_25_17_17_30  3.9   2.0\n",
       "1  Tilt_16.5_deg_h3899_2019_09_25_17_17_30  3.9  16.5\n",
       "2   Tilt_4.5_deg_h3899_2019_09_25_17_17_30  3.9   4.5\n",
       "3   Tilt_1.5_deg_h3899_2019_09_25_17_17_30  3.9   1.5\n",
       "4  Tilt_14.0_deg_h3899_2019_09_25_17_17_30  3.9  14.0"
      ]
     },
     "execution_count": 4,
     "metadata": {},
     "output_type": "execute_result"
    }
   ],
   "source": [
    "index.head()"
   ]
  },
  {
   "cell_type": "code",
   "execution_count": 5,
   "id": "76af1d08",
   "metadata": {},
   "outputs": [],
   "source": [
    "fmax = 7.5*ureg.Hz # 7.5Hz\n",
    "dt = 15*ureg.sec # 15sec\n",
    "df = 0.125*ureg.Hz\n",
    "\n",
    "ratio = df/dt\n",
    "total_time = fmax/ratio\n",
    "\n",
    "f = st.Template(\"$ratio*ceil(time/$dt)*$dt\").substitute(\n",
    "    dt = dt.to(ureg.us).magnitude,\n",
    "    ratio = ratio.to((ureg.MHz/ureg.us)).magnitude) * ureg.MHz\n",
    "\n",
    "frequency = lambda time: (ratio.to((ureg.MHz/ureg.us))*\\\n",
    "                          (np.ceil(time.to(ureg.us)/dt.to(ureg.us))*dt)).to(ureg.Hz)\n",
    "tilt_angle = np.concatenate([np.arange(0,30.5,0.5)])"
   ]
  },
  {
   "cell_type": "code",
   "execution_count": 6,
   "id": "811dcbe0",
   "metadata": {},
   "outputs": [],
   "source": [
    "def subset(times, dt, rnge):\n",
    "    \"\"\" Defines a repeated range of times. \n",
    "    It returns the same range for every value of frequency\"\"\"\n",
    "    fun = lambda times: (np.mod(times[:],dt))/dt\n",
    "    thresh1 = (min(rnge))/dt\n",
    "    thresh2 = (max(rnge))/dt\n",
    "    return (fun(times)>thresh1) & (fun(times)<thresh2)"
   ]
  },
  {
   "cell_type": "markdown",
   "id": "97568906",
   "metadata": {},
   "source": [
    "    def differentiated_velocity(name):\n",
    "        ## Lazy open the trajectory\n",
    "        trj_read = mgc.trj_lazyread(os.path.join(directory,name.file+\".lammpstrj\"), \n",
    "                         output = [\"x\",\"y\",\"z\",\"mux\",\"muy\",\"muz\",\"fx\",\"fy\"])\n",
    "\n",
    "        ## Define a subset\n",
    "        timestep = 1e-4*ureg.s\n",
    "        frames = np.array(list(trj_read.T.keys()))\n",
    "        times = frames*timestep\n",
    "        readthis = subset(times, dt, [7*ureg.s,14*ureg.s])\n",
    "\n",
    "        ## Load Trajectory\n",
    "        trj = trj_read.read_trj(np.where(readthis))\n",
    "        bounds = trj_read.get_bounds(slice(0,1,1))\n",
    "        trj = trj.filter([\"x\",\"y\",\"z\"])\n",
    "        trj[\"time\"] = trj.index.get_level_values(\"frame\")*timestep.to(ureg.s).magnitude\n",
    "        trj[\"frequency\"] = frequency(trj.time.values*ureg.s).to(ureg.Hz).magnitude\n",
    "\n",
    "        ## Calculate Velocity Array\n",
    "        velocities = sp.calculate_velocities(trj, bounds)\n",
    "        velocities[\"frequency\"] = trj[\"frequency\"]\n",
    "\n",
    "        ## Calculate Differentiated Velocity\n",
    "        velocities[\"plane\"] = np.NaN\n",
    "        velocities.loc[trj.z>0,\"plane\"] = \"up\"\n",
    "        velocities.loc[trj.z<0,\"plane\"] = \"down\"\n",
    "\n",
    "        vupdown = velocities.groupby([\"plane\",\"frequency\"]).mean().filter([\"x\",\"y\"])\n",
    "\n",
    "        vupdown = vupdown.join(\n",
    "            velocities.groupby([\"plane\",\"frequency\"]\n",
    "                          ).sem().filter([\"x\",\"y\"]).rename(\n",
    "                columns = dict(x=\"x_err\", y = \"y_err\")))\n",
    "\n",
    "        vupdown = vupdown.join(\n",
    "            velocities.groupby([\"plane\",\"frequency\"]\n",
    "                          ).std().filter([\"x\",\"y\"]).rename(\n",
    "                columns = dict(x=\"x_std\", y = \"y_std\")))\n",
    "\n",
    "        vupdown.to_csv(os.path.join(directory,name.file+\"_vupdown_w_err.dat\"), sep=\"\\t\")\n",
    "\n",
    "\n",
    "        return vupdown"
   ]
  },
  {
   "cell_type": "code",
   "execution_count": 7,
   "id": "091657f3",
   "metadata": {},
   "outputs": [],
   "source": [
    "def differentiated_velocity(name):\n",
    "    ## Lazy open the trajectory\n",
    "    trj_read = mgc.trj_lazyread(os.path.join(directory,name.file+\".lammpstrj\"), \n",
    "                     output = [\"x\",\"y\",\"z\",\"mux\",\"muy\",\"muz\",\"fx\",\"fy\"])\n",
    "\n",
    "    ## Define a subset\n",
    "    timestep = 1e-4*ureg.s\n",
    "    frames = np.array(list(trj_read.T.keys()))\n",
    "    times = frames*timestep\n",
    "    readthis = subset(times, dt, [7*ureg.s,14*ureg.s])\n",
    "\n",
    "    ## Load Trajectory\n",
    "    trj = trj_read.read_trj(np.where(readthis))\n",
    "    bounds = trj_read.get_bounds(slice(0,1,1))\n",
    "    trj = trj.filter([\"x\",\"y\",\"z\"])\n",
    "    trj[\"time\"] = trj.index.get_level_values(\"frame\")*timestep.to(ureg.s).magnitude\n",
    "    trj[\"frequency\"] = frequency(trj.time.values*ureg.s).to(ureg.Hz).magnitude\n",
    "\n",
    "    ## Calculate Velocity Array\n",
    "    velocities = sp.calculate_velocities(trj, bounds)\n",
    "    velocities[\"frequency\"] = trj[\"frequency\"]\n",
    "\n",
    "    ## Calculate Differentiated Velocity\n",
    "    velocities[\"plane\"] = np.NaN\n",
    "\n",
    "    velocities[\"x\"] = velocities[\"x\"] * np.sign(trj.z)\n",
    "    velocities[\"y\"] = velocities[\"y\"] * np.sign(trj.z)\n",
    "\n",
    "    vel_inst = velocities.groupby(\"frame\").mean()\n",
    "\n",
    "    vupdown = vel_inst.groupby([\"frequency\"]).mean().filter([\"x\",\"y\"])\n",
    "\n",
    "    vupdown = vupdown.join(\n",
    "        vel_inst.groupby([\"frequency\"]\n",
    "                      ).sem().filter([\"x\",\"y\"]).rename(\n",
    "            columns = dict(x=\"x_err\", y = \"y_err\")))\n",
    "\n",
    "    vupdown = vupdown.join(\n",
    "        vel_inst.groupby([\"frequency\"]\n",
    "                      ).std().filter([\"x\",\"y\"]).rename(\n",
    "            columns = dict(x=\"x_std\", y = \"y_std\")))\n",
    "\n",
    "    vupdown.to_csv(os.path.join(directory,name.file+\"_vupdown_w_err.dat\"), sep=\"\\t\")\n",
    "    \n",
    "    return vupdown"
   ]
  },
  {
   "cell_type": "code",
   "execution_count": 8,
   "id": "f85e2ee9",
   "metadata": {},
   "outputs": [],
   "source": [
    "from multiprocessing import Pool"
   ]
  },
  {
   "cell_type": "code",
   "execution_count": 9,
   "id": "5be63379",
   "metadata": {},
   "outputs": [
    {
     "data": {
      "application/vnd.jupyter.widget-view+json": {
       "model_id": "24cac5e571234c2489ea624f36ea135f",
       "version_major": 2,
       "version_minor": 0
      },
      "text/plain": [
       "  0%|          | 0/61 [00:00<?, ?it/s]"
      ]
     },
     "metadata": {},
     "output_type": "display_data"
    },
    {
     "name": "stdout",
     "output_type": "stream",
     "text": [
      "CPU times: user 340 ms, sys: 120 ms, total: 461 ms\n",
      "Wall time: 1h 59min 59s\n"
     ]
    }
   ],
   "source": [
    "%%time\n",
    "if __name__ ==  '__main__': \n",
    "    num_processors = 6\n",
    "    p=Pool(processes = num_processors)\n",
    "    diff_vel = list(tqdm(\n",
    "            p.imap(differentiated_velocity, \n",
    "                   [name for i,name in index.iterrows()]), \n",
    "            total=len(index)))"
   ]
  },
  {
   "cell_type": "code",
   "execution_count": 11,
   "id": "064880db",
   "metadata": {},
   "outputs": [],
   "source": [
    "diff_vel_pd = pd.concat(diff_vel, keys = index.index, names=[\"file\"])\n",
    "diff_vel_pd.to_csv(os.path.join(directory,\"differentiated_velocities_w_err.dat\"),\n",
    "                   sep = \"\\t\")"
   ]
  },
  {
   "cell_type": "code",
   "execution_count": null,
   "id": "c5b0d22e",
   "metadata": {},
   "outputs": [],
   "source": []
  }
 ],
 "metadata": {
  "kernelspec": {
   "display_name": "Python 3 (ipykernel)",
   "language": "python",
   "name": "python3"
  },
  "language_info": {
   "codemirror_mode": {
    "name": "ipython",
    "version": 3
   },
   "file_extension": ".py",
   "mimetype": "text/x-python",
   "name": "python",
   "nbconvert_exporter": "python",
   "pygments_lexer": "ipython3",
   "version": "3.8.16"
  }
 },
 "nbformat": 4,
 "nbformat_minor": 5
}
