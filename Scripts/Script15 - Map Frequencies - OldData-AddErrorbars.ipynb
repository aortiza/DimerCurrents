{
 "cells": [
  {
   "cell_type": "markdown",
   "id": "5ea99fba",
   "metadata": {},
   "source": [
    "# Recover Current profiles from old Phase Diagram "
   ]
  },
  {
   "cell_type": "code",
   "execution_count": 1,
   "id": "460f68bb",
   "metadata": {},
   "outputs": [],
   "source": [
    "import sys\n",
    "import os\n",
    "sys.path.insert(0, '../magcolloids')\n",
    "\n",
    "import numpy as np\n",
    "import matplotlib.pyplot as plt\n",
    "import pandas as pd\n",
    "from IPython.display import HTML, clear_output\n",
    "import scipy.optimize as spo\n",
    "import scipy.spatial as spa \n",
    "import magcolloids as mgc\n",
    "import matplotlib as mpl\n",
    "import string as st\n",
    "import itertools as it\n",
    "\n",
    "from tqdm.auto import tqdm\n",
    "\n",
    "ureg = mgc.ureg\n",
    "\n",
    "idx = pd.IndexSlice\n",
    "\n",
    "%reload_ext autoreload\n",
    "%autoreload 2"
   ]
  },
  {
   "cell_type": "code",
   "execution_count": 2,
   "id": "6b5094d1",
   "metadata": {},
   "outputs": [],
   "source": [
    "mpl.rc('text', usetex=True)\n",
    "mpl.rcParams['figure.dpi'] = 150"
   ]
  },
  {
   "cell_type": "code",
   "execution_count": 3,
   "id": "84587587",
   "metadata": {},
   "outputs": [],
   "source": [
    "directory = \"/media/Antonio/Dynamic/DimerCurrents/FrequencySweeps/FrequencySweep_3.9/\"\n",
    "index = pd.read_csv(os.path.join(directory, \"index.dat\"), \n",
    "                    sep=\" \", names = [\"file\", \"h\", \"tilt\"])"
   ]
  },
  {
   "cell_type": "code",
   "execution_count": 4,
   "id": "cc5729d8",
   "metadata": {},
   "outputs": [
    {
     "data": {
      "text/html": [
       "<div>\n",
       "<style scoped>\n",
       "    .dataframe tbody tr th:only-of-type {\n",
       "        vertical-align: middle;\n",
       "    }\n",
       "\n",
       "    .dataframe tbody tr th {\n",
       "        vertical-align: top;\n",
       "    }\n",
       "\n",
       "    .dataframe thead th {\n",
       "        text-align: right;\n",
       "    }\n",
       "</style>\n",
       "<table border=\"1\" class=\"dataframe\">\n",
       "  <thead>\n",
       "    <tr style=\"text-align: right;\">\n",
       "      <th></th>\n",
       "      <th>file</th>\n",
       "      <th>h</th>\n",
       "      <th>tilt</th>\n",
       "    </tr>\n",
       "  </thead>\n",
       "  <tbody>\n",
       "    <tr>\n",
       "      <th>0</th>\n",
       "      <td>Tilt_2.0_deg_h3899_2019_09_25_17_17_30</td>\n",
       "      <td>3.9</td>\n",
       "      <td>2.0</td>\n",
       "    </tr>\n",
       "    <tr>\n",
       "      <th>1</th>\n",
       "      <td>Tilt_16.5_deg_h3899_2019_09_25_17_17_30</td>\n",
       "      <td>3.9</td>\n",
       "      <td>16.5</td>\n",
       "    </tr>\n",
       "    <tr>\n",
       "      <th>2</th>\n",
       "      <td>Tilt_4.5_deg_h3899_2019_09_25_17_17_30</td>\n",
       "      <td>3.9</td>\n",
       "      <td>4.5</td>\n",
       "    </tr>\n",
       "    <tr>\n",
       "      <th>3</th>\n",
       "      <td>Tilt_1.5_deg_h3899_2019_09_25_17_17_30</td>\n",
       "      <td>3.9</td>\n",
       "      <td>1.5</td>\n",
       "    </tr>\n",
       "    <tr>\n",
       "      <th>4</th>\n",
       "      <td>Tilt_14.0_deg_h3899_2019_09_25_17_17_30</td>\n",
       "      <td>3.9</td>\n",
       "      <td>14.0</td>\n",
       "    </tr>\n",
       "  </tbody>\n",
       "</table>\n",
       "</div>"
      ],
      "text/plain": [
       "                                      file    h  tilt\n",
       "0   Tilt_2.0_deg_h3899_2019_09_25_17_17_30  3.9   2.0\n",
       "1  Tilt_16.5_deg_h3899_2019_09_25_17_17_30  3.9  16.5\n",
       "2   Tilt_4.5_deg_h3899_2019_09_25_17_17_30  3.9   4.5\n",
       "3   Tilt_1.5_deg_h3899_2019_09_25_17_17_30  3.9   1.5\n",
       "4  Tilt_14.0_deg_h3899_2019_09_25_17_17_30  3.9  14.0"
      ]
     },
     "execution_count": 4,
     "metadata": {},
     "output_type": "execute_result"
    }
   ],
   "source": [
    "index.head()"
   ]
  },
  {
   "cell_type": "code",
   "execution_count": 5,
   "id": "ed2c21fe",
   "metadata": {},
   "outputs": [
    {
     "data": {
      "text/html": [
       "<div>\n",
       "<style scoped>\n",
       "    .dataframe tbody tr th:only-of-type {\n",
       "        vertical-align: middle;\n",
       "    }\n",
       "\n",
       "    .dataframe tbody tr th {\n",
       "        vertical-align: top;\n",
       "    }\n",
       "\n",
       "    .dataframe thead th {\n",
       "        text-align: right;\n",
       "    }\n",
       "</style>\n",
       "<table border=\"1\" class=\"dataframe\">\n",
       "  <thead>\n",
       "    <tr style=\"text-align: right;\">\n",
       "      <th></th>\n",
       "      <th></th>\n",
       "      <th>x</th>\n",
       "      <th>y</th>\n",
       "      <th>x_err</th>\n",
       "      <th>y_err</th>\n",
       "      <th>x_std</th>\n",
       "      <th>y_std</th>\n",
       "    </tr>\n",
       "    <tr>\n",
       "      <th>tilt</th>\n",
       "      <th>frequency</th>\n",
       "      <th></th>\n",
       "      <th></th>\n",
       "      <th></th>\n",
       "      <th></th>\n",
       "      <th></th>\n",
       "      <th></th>\n",
       "    </tr>\n",
       "  </thead>\n",
       "  <tbody>\n",
       "    <tr>\n",
       "      <th rowspan=\"5\" valign=\"top\">2.0</th>\n",
       "      <th>0.125</th>\n",
       "      <td>-0.057676</td>\n",
       "      <td>-0.137966</td>\n",
       "      <td>0.032227</td>\n",
       "      <td>0.028493</td>\n",
       "      <td>0.738416</td>\n",
       "      <td>0.652857</td>\n",
       "    </tr>\n",
       "    <tr>\n",
       "      <th>0.250</th>\n",
       "      <td>0.162099</td>\n",
       "      <td>0.185934</td>\n",
       "      <td>0.061528</td>\n",
       "      <td>0.060820</td>\n",
       "      <td>1.411116</td>\n",
       "      <td>1.394880</td>\n",
       "    </tr>\n",
       "    <tr>\n",
       "      <th>0.375</th>\n",
       "      <td>0.154448</td>\n",
       "      <td>-0.301165</td>\n",
       "      <td>0.091719</td>\n",
       "      <td>0.088772</td>\n",
       "      <td>2.105542</td>\n",
       "      <td>2.037888</td>\n",
       "    </tr>\n",
       "    <tr>\n",
       "      <th>0.500</th>\n",
       "      <td>0.029361</td>\n",
       "      <td>-0.354682</td>\n",
       "      <td>0.120625</td>\n",
       "      <td>0.120483</td>\n",
       "      <td>2.769125</td>\n",
       "      <td>2.765855</td>\n",
       "    </tr>\n",
       "    <tr>\n",
       "      <th>0.625</th>\n",
       "      <td>0.307811</td>\n",
       "      <td>-0.094988</td>\n",
       "      <td>0.151833</td>\n",
       "      <td>0.149104</td>\n",
       "      <td>3.482238</td>\n",
       "      <td>3.419650</td>\n",
       "    </tr>\n",
       "  </tbody>\n",
       "</table>\n",
       "</div>"
      ],
      "text/plain": [
       "                       x         y     x_err     y_err     x_std     y_std\n",
       "tilt frequency                                                            \n",
       "2.0  0.125     -0.057676 -0.137966  0.032227  0.028493  0.738416  0.652857\n",
       "     0.250      0.162099  0.185934  0.061528  0.060820  1.411116  1.394880\n",
       "     0.375      0.154448 -0.301165  0.091719  0.088772  2.105542  2.037888\n",
       "     0.500      0.029361 -0.354682  0.120625  0.120483  2.769125  2.765855\n",
       "     0.625      0.307811 -0.094988  0.151833  0.149104  3.482238  3.419650"
      ]
     },
     "execution_count": 5,
     "metadata": {},
     "output_type": "execute_result"
    }
   ],
   "source": [
    "diff_vel_pd = pd.read_csv(os.path.join(directory,\"differentiated_velocities_w_err.dat\"),\n",
    "            sep = \"\\t\", \n",
    "            index_col = [0,1])\n",
    "\n",
    "diff_vel_pd[\"tilt\"] = index.reindex(diff_vel_pd.index.get_level_values(\"file\")).tilt.values\n",
    "\n",
    "diff_vel_pd = diff_vel_pd.set_index(\"tilt\",append=True).reorder_levels(\n",
    "    [\"file\",\"tilt\",\"frequency\"]).sort_index().droplevel(0)\n",
    "\n",
    "diff_vel_pd.head()"
   ]
  },
  {
   "cell_type": "code",
   "execution_count": 6,
   "id": "78bc718d",
   "metadata": {},
   "outputs": [],
   "source": [
    "d = 2.8\n",
    "phi = 0.2625\n",
    "\n",
    "factor = d*np.sqrt(np.pi/np.sqrt(3)/phi)"
   ]
  },
  {
   "cell_type": "markdown",
   "id": "e0185543",
   "metadata": {},
   "source": [
    "The factor of two below comes from the fact that each value of current only measures the current of the upper or lower plane. "
   ]
  },
  {
   "cell_type": "code",
   "execution_count": 7,
   "id": "1e137eb1",
   "metadata": {},
   "outputs": [],
   "source": [
    "diff_vel_pd[\"I\"] = 2*np.sqrt(\n",
    "    (diff_vel_pd.x)**2 + \n",
    "    (diff_vel_pd.y)**2)/(factor*diff_vel_pd.index.get_level_values(\"frequency\"))\n",
    "\n",
    "diff_vel_pd[\"I_std\"] = 2*np.sqrt(\n",
    "    (diff_vel_pd.x_std)**2 + \n",
    "    (diff_vel_pd.y_std)**2)/(factor*diff_vel_pd.index.get_level_values(\"frequency\"))\n",
    "\n",
    "diff_vel_pd[\"I_err\"] = 2*np.sqrt(\n",
    "    (diff_vel_pd.x_err)**2 + \n",
    "    (diff_vel_pd.y_err)**2)/(factor*diff_vel_pd.index.get_level_values(\"frequency\"))\n",
    "\n",
    "frequencies = diff_vel_pd.index.get_level_values(\"frequency\")\n",
    "current = diff_vel_pd.I\n",
    "current_err = diff_vel_pd.I_err\n",
    "current_std = diff_vel_pd.I_std"
   ]
  },
  {
   "cell_type": "markdown",
   "id": "58406a76",
   "metadata": {},
   "source": [
    "## Plot of current vs $f$ for some tilts $\\delta$ "
   ]
  },
  {
   "cell_type": "code",
   "execution_count": 8,
   "id": "a2eafd6f",
   "metadata": {},
   "outputs": [
    {
     "data": {
      "image/png": "[encoded data removed]",
      "text/plain": [
       "<Figure size 750x300 with 2 Axes>"
      ]
     },
     "metadata": {},
     "output_type": "display_data"
    }
   ],
   "source": [
    "fig, ax = plt.subplots(1,2,figsize=(5,2), sharey=True, tight_layout=True)\n",
    "\n",
    "for i in [10,15,20]:\n",
    "    \n",
    "    ax[0].errorbar(current.loc[i].index,\n",
    "                   current.loc[i], current_err.loc[i],\n",
    "                   label=i)\n",
    "\n",
    "\n",
    "for f in [1,3,6]:\n",
    "    ax[1].errorbar(current.reorder_levels([\"frequency\",\"tilt\"]).sort_index().loc[f].index,\n",
    "                   current.reorder_levels([\"frequency\",\"tilt\"]).sort_index().loc[f],\n",
    "                   current_err.reorder_levels([\"frequency\",\"tilt\"]).sort_index().loc[f],\n",
    "                   label = f)\n",
    "\n",
    "\n",
    "ax[0].set_ylabel(\"$I$\")\n",
    "ax[0].set_xlabel(\"$f$[Hz]\")\n",
    "ax[1].set_xlabel(\"$\\delta$[deg]\")\n",
    "\n",
    "ax[0].legend(\n",
    "    title = \"$\\delta$[deg]\",\n",
    "    borderpad = 0.1,\n",
    "    fancybox = False,\n",
    "    edgecolor = \"w\",\n",
    "    framealpha = 0.5,\n",
    "    handlelength = 1.5,\n",
    "    loc = 8\n",
    "            )\n",
    "\n",
    "ax[1].legend(\n",
    "    title = \"$f$[Hz]\",\n",
    "    borderpad = 0.1,\n",
    "    fancybox = False,\n",
    "    edgecolor = \"w\",\n",
    "    framealpha = 0.5,\n",
    "    handlelength = 1.5,\n",
    "    loc = 4\n",
    "            )\n",
    "\n",
    "plt.ylim(-0.1,1.1)\n",
    "plt.savefig(\"../Plots/current_vs_tilt_vs_freq.pdf\")"
   ]
  },
  {
   "cell_type": "code",
   "execution_count": 9,
   "id": "8df9b314",
   "metadata": {},
   "outputs": [],
   "source": [
    "current.loc[[10,15,20]].unstack().transpose().to_csv(\n",
    "    \"../Plots/current_vs_freq.dat\", sep = \"\\t\")\n",
    "current.reorder_levels([\"frequency\",\"tilt\"]\n",
    "                      ).loc[[1,3,6]].unstack().transpose().to_csv(\n",
    "    \"../Plots/current_vs_tilt.dat\", sep = \"\\t\")"
   ]
  },
  {
   "cell_type": "code",
   "execution_count": null,
   "id": "8958d466",
   "metadata": {},
   "outputs": [],
   "source": []
  }
 ],
 "metadata": {
  "kernelspec": {
   "display_name": "Python 3 (ipykernel)",
   "language": "python",
   "name": "python3"
  },
  "language_info": {
   "codemirror_mode": {
    "name": "ipython",
    "version": 3
   },
   "file_extension": ".py",
   "mimetype": "text/x-python",
   "name": "python",
   "nbconvert_exporter": "python",
   "pygments_lexer": "ipython3",
   "version": "3.8.16"
  }
 },
 "nbformat": 4,
 "nbformat_minor": 5
}
