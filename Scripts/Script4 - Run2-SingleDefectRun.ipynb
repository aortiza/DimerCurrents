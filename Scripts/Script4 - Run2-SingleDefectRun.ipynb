{
 "cells": [
  {
   "cell_type": "markdown",
   "id": "5ea99fba",
   "metadata": {},
   "source": [
    "# Run a Simulation with a single defect created by an odd number of particles\n",
    "* Constant frequency $f$, Packing $\\Phi$, and height $h$. \n",
    "* Varying tilt angle $\\delta$. \n",
    "\n",
    "Saved in \n",
    "\n",
    "    ../Data/Run2-OddRun"
   ]
  },
  {
   "cell_type": "code",
   "execution_count": 1,
   "id": "460f68bb",
   "metadata": {},
   "outputs": [],
   "source": [
    "import sys\n",
    "import os\n",
    "sys.path.insert(0, '../magcolloids')\n",
    "\n",
    "import numpy as np\n",
    "import matplotlib.pyplot as plt\n",
    "import pandas as pd\n",
    "from IPython.display import HTML, clear_output\n",
    "import scipy.optimize as spo\n",
    "import scipy.spatial as spa \n",
    "import magcolloids as mgc\n",
    "import matplotlib as mpl\n",
    "import string as st\n",
    "\n",
    "from tqdm.auto import tqdm\n",
    "\n",
    "ureg = mgc.ureg\n",
    "\n",
    "idx = pd.IndexSlice\n",
    "\n",
    "%reload_ext autoreload\n",
    "%autoreload 2"
   ]
  },
  {
   "cell_type": "code",
   "execution_count": 2,
   "id": "84587587",
   "metadata": {},
   "outputs": [
    {
     "data": {
      "text/plain": [
       "0"
      ]
     },
     "execution_count": 2,
     "metadata": {},
     "output_type": "execute_result"
    }
   ],
   "source": [
    "directory = \"../Data/Run2-OddRun\"\n",
    "os.system(\"rm -r %s\"%directory)"
   ]
  },
  {
   "cell_type": "code",
   "execution_count": 3,
   "id": "244b5d62",
   "metadata": {},
   "outputs": [],
   "source": [
    "h = 3.9*ureg.um\n",
    "rho = 1.4 * ureg.um\n",
    "\n",
    "region, positions = mgc.ordered_dimers(\n",
    "    n_of_particles = 250,\n",
    "    packing=0.35, height = h.magnitude,\n",
    "    r = rho.magnitude, theta = 0)"
   ]
  },
  {
   "cell_type": "markdown",
   "id": "6de2e483",
   "metadata": {},
   "source": [
    "### Delete a single object from the center"
   ]
  },
  {
   "cell_type": "code",
   "execution_count": 4,
   "id": "1858a569",
   "metadata": {},
   "outputs": [
    {
     "data": {
      "text/plain": [
       "[<matplotlib.lines.Line2D at 0x7f0803cc0b50>]"
      ]
     },
     "execution_count": 4,
     "metadata": {},
     "output_type": "execute_result"
    },
    {
     "data": {
      "image/png": "[encoded data removed]",
      "text/plain": [
       "<Figure size 432x288 with 1 Axes>"
      ]
     },
     "metadata": {
      "needs_background": "light"
     },
     "output_type": "display_data"
    }
   ],
   "source": [
    "plt.plot(positions[:,0],positions[:,1],'.')\n",
    "plt.axis(\"square\")\n",
    "\n",
    "mask = np.ones_like(positions[:,0], dtype=bool)\n",
    "mask[np.argmin(np.sqrt(positions[:,0]**2+positions[:,1]**2))]=False\n",
    "\n",
    "positions_new = positions[mask]\n",
    "\n",
    "\n",
    "plt.plot(positions_new[:,0], positions_new[:,1],'.')"
   ]
  },
  {
   "cell_type": "code",
   "execution_count": 5,
   "id": "7253cdb7",
   "metadata": {},
   "outputs": [],
   "source": [
    "particles = mgc.particles(\n",
    "    positions_new*ureg.um,\n",
    "    radius = 1.4*ureg.um,\n",
    "    susceptibility = 0.4,\n",
    "    diffusion=0.073*ureg.um**2/ureg.s,\n",
    "    density = 1000*ureg.kg/ureg.m**3,\n",
    "    temperature=300*ureg.K)"
   ]
  },
  {
   "cell_type": "code",
   "execution_count": 6,
   "id": "24b5316a",
   "metadata": {},
   "outputs": [],
   "source": [
    "def redefine_field(field,tilt_angle):\n",
    "    field.fieldx = 'v_Bmag*(sin(v_freq*time*2*PI)*sin(v_theta)+cos(v_theta)*%s)'%np.sin(tilt_angle).magnitude\n",
    "    field.fieldy = 'v_Bmag*(cos(v_freq*time*2*PI)*sin(v_theta))'%np.sin(tilt_angle).magnitude\n",
    "    field.fieldz = 'v_Bmag*(cos(v_theta)*%s)'%np.cos(tilt_angle).magnitude\n",
    "    return field"
   ]
  },
  {
   "cell_type": "code",
   "execution_count": 7,
   "id": "8cd0651c",
   "metadata": {},
   "outputs": [],
   "source": [
    "world = mgc.world(particles, temperature = 300*ureg.K,\n",
    "                  lj_parameters = [1e-2*ureg.pg*ureg.um**2/ureg.us**2, 2**(-1/6)],\n",
    "                  region=region*ureg.um, boundaries = ['p','p','f'], \n",
    "                  walls = [False,False,True],\n",
    "                  dipole_cutoff = 30*ureg.um)\n",
    "\n",
    "total_time = 60*ureg.s\n",
    "tilt_angle = np.arange(0,30,1)"
   ]
  },
  {
   "cell_type": "code",
   "execution_count": 8,
   "id": "7efd32ff",
   "metadata": {},
   "outputs": [],
   "source": [
    "index_name = \"index.dat\"\n",
    "\n",
    "import csv\n",
    "\n",
    "def prepare_simulation(delta):\n",
    "    \n",
    "    field = mgc.field(magnitude = 7.28*ureg.mT, frequency = 3*ureg.Hz,\n",
    "                  angle = 27*ureg.degrees, multibody_iter=2)\n",
    "    \n",
    "    field = redefine_field(field,delta*ureg.deg)\n",
    "\n",
    "    sim = mgc.sim(dir_name = directory,\n",
    "                  file_name=\"Tilt_%s_deg_h%u\"%(delta,h.to(ureg.nm).magnitude),stamp_time=True,\n",
    "                  timestep = 1e-4*ureg.s, framerate = 60*ureg.Hz, total_time = total_time,\n",
    "                  particles = particles, world = world, \n",
    "                  field = field, output=[\"x\",\"y\",\"z\",\"mux\",\"muy\",\"muz\",\"fx\",\"fy\"])\n",
    "    \n",
    "    sim.tilt = delta\n",
    "    sim.height = h\n",
    "    \n",
    "    return sim"
   ]
  },
  {
   "cell_type": "code",
   "execution_count": 9,
   "id": "7aaaa16f",
   "metadata": {},
   "outputs": [],
   "source": [
    "simulations = [prepare_simulation(delta) for delta in tilt_angle[:]]"
   ]
  },
  {
   "cell_type": "code",
   "execution_count": 10,
   "id": "ebb0765e",
   "metadata": {},
   "outputs": [],
   "source": [
    "def run_simulation(sim):\n",
    "    \n",
    "    import csv\n",
    "    import os\n",
    "    index_name = \"index.dat\"\n",
    "    directory = sim.dir_name\n",
    "    \n",
    "    sim.generate_scripts()\n",
    "    sim.run()\n",
    "    \n",
    "    sim.load()\n",
    "    max_frame = max(sim.lazy_read.T.keys())\n",
    "    \n",
    "    h = sim.height\n",
    "    delta = sim.tilt\n",
    "    \n",
    "    with open(os.path.join(directory,index_name),'a',newline='') as file:\n",
    "        writer = csv.writer(file,delimiter=' ')\n",
    "        writer.writerow([os.path.split(sim.base_name)[-1], h.magnitude, delta, max_frame])"
   ]
  },
  {
   "cell_type": "markdown",
   "id": "584ecb8f",
   "metadata": {},
   "source": [
    "## Run Asynchronously"
   ]
  },
  {
   "cell_type": "code",
   "execution_count": 11,
   "id": "8049c76b",
   "metadata": {},
   "outputs": [],
   "source": [
    "from multiprocessing import Pool"
   ]
  },
  {
   "cell_type": "code",
   "execution_count": null,
   "id": "9f517ae2",
   "metadata": {},
   "outputs": [],
   "source": [
    "%%time\n",
    "if __name__ ==  '__main__': \n",
    "    num_processors = 30\n",
    "    p=Pool(processes = num_processors)\n",
    "    p.map(run_simulation,simulations)"
   ]
  },
  {
   "cell_type": "code",
   "execution_count": null,
   "id": "567c2009",
   "metadata": {},
   "outputs": [],
   "source": [
    "index = pd.read_csv(os.path.join(directory,\"index.dat\"),\n",
    "                    names = [\"file\", \"height\", \"tilt\", \"max_frame\"],\n",
    "                    sep=\" \")"
   ]
  },
  {
   "cell_type": "code",
   "execution_count": null,
   "id": "738e4c52",
   "metadata": {},
   "outputs": [],
   "source": [
    "index.head()"
   ]
  },
  {
   "cell_type": "code",
   "execution_count": null,
   "id": "4ef82262",
   "metadata": {},
   "outputs": [],
   "source": [
    "name = index.query(\"tilt == 10\").iloc[0].file"
   ]
  },
  {
   "cell_type": "code",
   "execution_count": null,
   "id": "9b5eb377",
   "metadata": {},
   "outputs": [],
   "source": [
    "trj_read = mgc.trj_lazyread(os.path.join(directory,name+\".lammpstrj\"), \n",
    "                     output = [\"x\",\"y\",\"z\",\"mux\",\"muy\",\"muz\",\"fx\",\"fy\"])\n",
    "trj = trj_read[:]\n",
    "bounds = trj_read.get_bounds()"
   ]
  },
  {
   "cell_type": "code",
   "execution_count": null,
   "id": "325fb57d",
   "metadata": {},
   "outputs": [],
   "source": [
    "trj.head()"
   ]
  },
  {
   "cell_type": "code",
   "execution_count": null,
   "id": "11188f45",
   "metadata": {},
   "outputs": [],
   "source": [
    "frames = trj.index.get_level_values(\"frame\").unique()\n",
    "anim = mgc.animate_trj(trj.loc[frames[:100]],\n",
    "                       region = bounds.iloc[0], radius = 1.4,\n",
    "                       framerate = 20, verb = False)"
   ]
  },
  {
   "cell_type": "code",
   "execution_count": null,
   "id": "91701fd9",
   "metadata": {},
   "outputs": [],
   "source": [
    "vid = anim.to_html5_video()"
   ]
  },
  {
   "cell_type": "code",
   "execution_count": null,
   "id": "cb6610d6",
   "metadata": {},
   "outputs": [],
   "source": [
    "HTML(vid)"
   ]
  },
  {
   "cell_type": "code",
   "execution_count": null,
   "id": "904e87b7",
   "metadata": {},
   "outputs": [],
   "source": [
    "index"
   ]
  }
 ],
 "metadata": {
  "kernelspec": {
   "display_name": "Python 3",
   "language": "python",
   "name": "python3"
  },
  "language_info": {
   "codemirror_mode": {
    "name": "ipython",
    "version": 3
   },
   "file_extension": ".py",
   "mimetype": "text/x-python",
   "name": "python",
   "nbconvert_exporter": "python",
   "pygments_lexer": "ipython3",
   "version": "3.8.8"
  }
 },
 "nbformat": 4,
 "nbformat_minor": 5
}
