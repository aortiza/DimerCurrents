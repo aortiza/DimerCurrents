{
 "cells": [
  {
   "cell_type": "markdown",
   "id": "5ea99fba",
   "metadata": {},
   "source": [
    "# Run Plain Simulation\n",
    "In this notebook I ran a simulation without defects but running 10 different seeds for each tilt angle. This should produce smoother curves. \n",
    "* Constant frequency $f$, Packing $\\Phi$, and height $h$. \n",
    "* Varying tilt angle $\\delta$. \n",
    "\n",
    "Saved in \n",
    "\n",
    "    /media/Antonio/Dynamic/DimerCurrents/Run3-PlainRun-Stat"
   ]
  },
  {
   "cell_type": "code",
   "execution_count": 1,
   "id": "460f68bb",
   "metadata": {},
   "outputs": [],
   "source": [
    "import sys\n",
    "import os\n",
    "sys.path.insert(0, '../magcolloids')\n",
    "\n",
    "import numpy as np\n",
    "import matplotlib.pyplot as plt\n",
    "import pandas as pd\n",
    "from IPython.display import HTML, clear_output\n",
    "import scipy.optimize as spo\n",
    "import scipy.spatial as spa \n",
    "import magcolloids as mgc\n",
    "import matplotlib as mpl\n",
    "import string as st\n",
    "import itertools as it\n",
    "\n",
    "from tqdm.auto import tqdm\n",
    "\n",
    "ureg = mgc.ureg\n",
    "\n",
    "idx = pd.IndexSlice\n",
    "\n",
    "%reload_ext autoreload\n",
    "%autoreload 2"
   ]
  },
  {
   "cell_type": "code",
   "execution_count": 2,
   "id": "84587587",
   "metadata": {},
   "outputs": [
    {
     "data": {
      "text/plain": [
       "0"
      ]
     },
     "execution_count": 2,
     "metadata": {},
     "output_type": "execute_result"
    }
   ],
   "source": [
    "directory = \"/media/Antonio/Dynamic/DimerCurrents/Run3-PlainRun-Stat\"\n",
    "\n",
    "os.system(\"rm -r %s\"%directory)"
   ]
  },
  {
   "cell_type": "code",
   "execution_count": 3,
   "id": "7253cdb7",
   "metadata": {},
   "outputs": [],
   "source": [
    "h = 3.9*ureg.um\n",
    "rho = 1.4 * ureg.um\n",
    "\n",
    "region, positions = mgc.ordered_dimers(\n",
    "    n_of_particles = 250,\n",
    "    packing=0.35, height = h.magnitude,\n",
    "    r = rho.magnitude, theta = 0)\n",
    "\n",
    "particles = mgc.particles(\n",
    "    positions*ureg.um,\n",
    "    radius = 1.4*ureg.um,\n",
    "    susceptibility = 0.4,\n",
    "    diffusion=0.073*ureg.um**2/ureg.s,\n",
    "    density = 1000*ureg.kg/ureg.m**3,\n",
    "    temperature=300*ureg.K)"
   ]
  },
  {
   "cell_type": "code",
   "execution_count": 4,
   "id": "0df1ce03",
   "metadata": {},
   "outputs": [],
   "source": [
    "def redefine_field(field,tilt_angle):\n",
    "    field.fieldx = 'v_Bmag*(sin(v_freq*time*2*PI)*sin(v_theta)+cos(v_theta)*%s)'%np.sin(tilt_angle).magnitude\n",
    "    field.fieldy = 'v_Bmag*(cos(v_freq*time*2*PI)*sin(v_theta))'%np.sin(tilt_angle).magnitude\n",
    "    field.fieldz = 'v_Bmag*(cos(v_theta)*%s)'%np.cos(tilt_angle).magnitude\n",
    "    return field"
   ]
  },
  {
   "cell_type": "code",
   "execution_count": 5,
   "id": "8cd0651c",
   "metadata": {},
   "outputs": [],
   "source": [
    "world = mgc.world(particles, temperature = 300*ureg.K,\n",
    "                  lj_parameters = [1e-2*ureg.pg*ureg.um**2/ureg.us**2, 2**(-1/6)],\n",
    "                  region=region*ureg.um, boundaries = ['p','p','f'], \n",
    "                  walls = [False,False,True],\n",
    "                  dipole_cutoff = 30*ureg.um)\n",
    "\n",
    "total_time = 180*ureg.s\n",
    "tilt_angle = np.arange(0,30,1)"
   ]
  },
  {
   "cell_type": "code",
   "execution_count": 6,
   "id": "7efd32ff",
   "metadata": {},
   "outputs": [],
   "source": [
    "index_name = \"index.dat\"\n",
    "\n",
    "import csv\n",
    "\n",
    "def prepare_simulation(delta, seed):\n",
    "    \n",
    "    field = mgc.field(magnitude = 7.28*ureg.mT, frequency = 3*ureg.Hz,\n",
    "                  angle = 27*ureg.degrees, multibody_iter=2)\n",
    "    \n",
    "    field = redefine_field(field,delta*ureg.deg)\n",
    "\n",
    "    sim = mgc.sim(dir_name = directory,\n",
    "                  file_name=\"Tilt_%s_sd_%s_deg_h%u\"%(delta,seed,h.to(ureg.nm).magnitude),\n",
    "                  stamp_time=True,\n",
    "                  timestep = 1e-4*ureg.s, framerate = 60*ureg.Hz, total_time = total_time,\n",
    "                  particles = particles, world = world, \n",
    "                  field = field, output=[\"x\",\"y\",\"z\",\"mux\",\"muy\",\"muz\",\"fx\",\"fy\"],\n",
    "                  seed = seed)\n",
    "    \n",
    "    sim.tilt = delta\n",
    "    sim.height = h\n",
    "    \n",
    "    return sim"
   ]
  },
  {
   "cell_type": "code",
   "execution_count": 7,
   "id": "699795cd",
   "metadata": {},
   "outputs": [],
   "source": [
    "a = np.random.choice(np.arange(1,10),5)\n",
    "b = [n*10**i for i,n in enumerate(a)]\n",
    "start_seed = sum(b)"
   ]
  },
  {
   "cell_type": "code",
   "execution_count": 8,
   "id": "7aaaa16f",
   "metadata": {},
   "outputs": [],
   "source": [
    "simulations = [prepare_simulation(delta, seed)\n",
    "               for delta, seed in it.product(tilt_angle, start_seed + np.arange(10))]"
   ]
  },
  {
   "cell_type": "code",
   "execution_count": 9,
   "id": "ebb0765e",
   "metadata": {},
   "outputs": [],
   "source": [
    "def run_simulation(sim):\n",
    "    \n",
    "    sim = sim\n",
    "    seed = sim.seed\n",
    "    \n",
    "    import csv\n",
    "    import os\n",
    "    index_name = \"index.dat\"\n",
    "    directory = sim.dir_name\n",
    "        \n",
    "    sim.generate_scripts()\n",
    "    out = sim.run(verbose=False)\n",
    "\n",
    "    sim.load()\n",
    "    max_frame = max(sim.lazy_read.T.keys())\n",
    "    \n",
    "    h = sim.height\n",
    "    delta = sim.tilt\n",
    "        \n",
    "    with open(os.path.join(directory,index_name),'a',newline='') as file:\n",
    "        writer = csv.writer(file,delimiter=' ')\n",
    "        writer.writerow([os.path.split(sim.base_name)[-1],\n",
    "                         h.magnitude, delta, seed, max_frame])\n",
    "\n",
    "\n",
    "    return out"
   ]
  },
  {
   "cell_type": "markdown",
   "id": "584ecb8f",
   "metadata": {},
   "source": [
    "## Run Asynchronously"
   ]
  },
  {
   "cell_type": "code",
   "execution_count": 10,
   "id": "8049c76b",
   "metadata": {},
   "outputs": [],
   "source": [
    "from multiprocessing import Pool"
   ]
  },
  {
   "cell_type": "code",
   "execution_count": 11,
   "id": "9f517ae2",
   "metadata": {},
   "outputs": [
    {
     "name": "stdout",
     "output_type": "stream",
     "text": [
      "CPU times: user 952 ms, sys: 507 ms, total: 1.46 s\n",
      "Wall time: 23h 5min 53s\n"
     ]
    }
   ],
   "source": [
    "%%time\n",
    "if __name__ ==  '__main__': \n",
    "    num_processors = 15\n",
    "    p = Pool(processes = num_processors)\n",
    "    as_res = p.map(run_simulation, simulations, 1)"
   ]
  },
  {
   "cell_type": "markdown",
   "id": "33f39690",
   "metadata": {},
   "source": [
    "# Show some results"
   ]
  },
  {
   "cell_type": "code",
   "execution_count": 12,
   "id": "567c2009",
   "metadata": {},
   "outputs": [
    {
     "data": {
      "text/html": [
       "<div>\n",
       "<style scoped>\n",
       "    .dataframe tbody tr th:only-of-type {\n",
       "        vertical-align: middle;\n",
       "    }\n",
       "\n",
       "    .dataframe tbody tr th {\n",
       "        vertical-align: top;\n",
       "    }\n",
       "\n",
       "    .dataframe thead th {\n",
       "        text-align: right;\n",
       "    }\n",
       "</style>\n",
       "<table border=\"1\" class=\"dataframe\">\n",
       "  <thead>\n",
       "    <tr style=\"text-align: right;\">\n",
       "      <th></th>\n",
       "      <th>file</th>\n",
       "      <th>height</th>\n",
       "      <th>tilt</th>\n",
       "      <th>seed</th>\n",
       "      <th>max_frame</th>\n",
       "    </tr>\n",
       "  </thead>\n",
       "  <tbody>\n",
       "    <tr>\n",
       "      <th>0</th>\n",
       "      <td>Tilt_1_sd_34196_deg_h3899_2023_08_15_15_10_13</td>\n",
       "      <td>3.9</td>\n",
       "      <td>1</td>\n",
       "      <td>34196</td>\n",
       "      <td>1799926</td>\n",
       "    </tr>\n",
       "    <tr>\n",
       "      <th>1</th>\n",
       "      <td>Tilt_0_sd_34200_deg_h3899_2023_08_15_15_10_13</td>\n",
       "      <td>3.9</td>\n",
       "      <td>0</td>\n",
       "      <td>34200</td>\n",
       "      <td>1799926</td>\n",
       "    </tr>\n",
       "    <tr>\n",
       "      <th>2</th>\n",
       "      <td>Tilt_0_sd_34197_deg_h3899_2023_08_15_15_10_13</td>\n",
       "      <td>3.9</td>\n",
       "      <td>0</td>\n",
       "      <td>34197</td>\n",
       "      <td>1799926</td>\n",
       "    </tr>\n",
       "    <tr>\n",
       "      <th>3</th>\n",
       "      <td>Tilt_0_sd_34194_deg_h3899_2023_08_15_15_10_13</td>\n",
       "      <td>3.9</td>\n",
       "      <td>0</td>\n",
       "      <td>34194</td>\n",
       "      <td>1799926</td>\n",
       "    </tr>\n",
       "    <tr>\n",
       "      <th>4</th>\n",
       "      <td>Tilt_0_sd_34195_deg_h3899_2023_08_15_15_10_13</td>\n",
       "      <td>3.9</td>\n",
       "      <td>0</td>\n",
       "      <td>34195</td>\n",
       "      <td>1799926</td>\n",
       "    </tr>\n",
       "  </tbody>\n",
       "</table>\n",
       "</div>"
      ],
      "text/plain": [
       "                                            file  height  tilt   seed  \\\n",
       "0  Tilt_1_sd_34196_deg_h3899_2023_08_15_15_10_13     3.9     1  34196   \n",
       "1  Tilt_0_sd_34200_deg_h3899_2023_08_15_15_10_13     3.9     0  34200   \n",
       "2  Tilt_0_sd_34197_deg_h3899_2023_08_15_15_10_13     3.9     0  34197   \n",
       "3  Tilt_0_sd_34194_deg_h3899_2023_08_15_15_10_13     3.9     0  34194   \n",
       "4  Tilt_0_sd_34195_deg_h3899_2023_08_15_15_10_13     3.9     0  34195   \n",
       "\n",
       "   max_frame  \n",
       "0    1799926  \n",
       "1    1799926  \n",
       "2    1799926  \n",
       "3    1799926  \n",
       "4    1799926  "
      ]
     },
     "execution_count": 12,
     "metadata": {},
     "output_type": "execute_result"
    }
   ],
   "source": [
    "index = pd.read_csv(os.path.join(directory,\"index.dat\"),\n",
    "                    names = [\"file\", \"height\", \"tilt\", \"seed\", \"max_frame\"],\n",
    "                    sep=\" \")\n",
    "index.head()"
   ]
  }
 ],
 "metadata": {
  "kernelspec": {
   "display_name": "Python 3 (ipykernel)",
   "language": "python",
   "name": "python3"
  },
  "language_info": {
   "codemirror_mode": {
    "name": "ipython",
    "version": 3
   },
   "file_extension": ".py",
   "mimetype": "text/x-python",
   "name": "python",
   "nbconvert_exporter": "python",
   "pygments_lexer": "ipython3",
   "version": "3.8.16"
  }
 },
 "nbformat": 4,
 "nbformat_minor": 5
}
